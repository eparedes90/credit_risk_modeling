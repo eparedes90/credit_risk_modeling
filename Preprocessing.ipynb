{
 "cells": [
  {
   "cell_type": "markdown",
   "metadata": {},
   "source": [
    "# Preprocessing"
   ]
  },
  {
   "cell_type": "code",
   "execution_count": 1,
   "metadata": {},
   "outputs": [],
   "source": [
    "# Import necessary libraries\n",
    "import pandas as pd\n",
    "import numpy as np\n"
   ]
  },
  {
   "cell_type": "code",
   "execution_count": 2,
   "metadata": {},
   "outputs": [],
   "source": [
    "# Load the data\n",
    "data = pd.read_csv('data/loan_sample.csv')"
   ]
  },
  {
   "cell_type": "code",
   "execution_count": 3,
   "metadata": {},
   "outputs": [
    {
     "name": "stdout",
     "output_type": "stream",
     "text": [
      "<class 'pandas.core.frame.DataFrame'>\n",
      "RangeIndex: 67820 entries, 0 to 67819\n",
      "Columns: 145 entries, id to settlement_term\n",
      "dtypes: float64(105), int64(4), object(36)\n",
      "memory usage: 75.0+ MB\n"
     ]
    }
   ],
   "source": [
    "#check the columns and rows\n",
    "data.info()"
   ]
  },
  {
   "cell_type": "code",
   "execution_count": 4,
   "metadata": {},
   "outputs": [
    {
     "data": {
      "text/html": [
       "<div>\n",
       "<style scoped>\n",
       "    .dataframe tbody tr th:only-of-type {\n",
       "        vertical-align: middle;\n",
       "    }\n",
       "\n",
       "    .dataframe tbody tr th {\n",
       "        vertical-align: top;\n",
       "    }\n",
       "\n",
       "    .dataframe thead th {\n",
       "        text-align: right;\n",
       "    }\n",
       "</style>\n",
       "<table border=\"1\" class=\"dataframe\">\n",
       "  <thead>\n",
       "    <tr style=\"text-align: right;\">\n",
       "      <th></th>\n",
       "      <th>id</th>\n",
       "      <th>member_id</th>\n",
       "      <th>loan_amnt</th>\n",
       "      <th>funded_amnt</th>\n",
       "      <th>funded_amnt_inv</th>\n",
       "      <th>term</th>\n",
       "      <th>int_rate</th>\n",
       "      <th>installment</th>\n",
       "      <th>grade</th>\n",
       "      <th>sub_grade</th>\n",
       "      <th>...</th>\n",
       "      <th>hardship_payoff_balance_amount</th>\n",
       "      <th>hardship_last_payment_amount</th>\n",
       "      <th>disbursement_method</th>\n",
       "      <th>debt_settlement_flag</th>\n",
       "      <th>debt_settlement_flag_date</th>\n",
       "      <th>settlement_status</th>\n",
       "      <th>settlement_date</th>\n",
       "      <th>settlement_amount</th>\n",
       "      <th>settlement_percentage</th>\n",
       "      <th>settlement_term</th>\n",
       "    </tr>\n",
       "  </thead>\n",
       "  <tbody>\n",
       "    <tr>\n",
       "      <th>0</th>\n",
       "      <td>NaN</td>\n",
       "      <td>NaN</td>\n",
       "      <td>3000</td>\n",
       "      <td>3000</td>\n",
       "      <td>2750.0</td>\n",
       "      <td>36 months</td>\n",
       "      <td>7.90</td>\n",
       "      <td>93.88</td>\n",
       "      <td>A</td>\n",
       "      <td>A4</td>\n",
       "      <td>...</td>\n",
       "      <td>NaN</td>\n",
       "      <td>NaN</td>\n",
       "      <td>Cash</td>\n",
       "      <td>N</td>\n",
       "      <td>NaN</td>\n",
       "      <td>NaN</td>\n",
       "      <td>NaN</td>\n",
       "      <td>NaN</td>\n",
       "      <td>NaN</td>\n",
       "      <td>NaN</td>\n",
       "    </tr>\n",
       "    <tr>\n",
       "      <th>1</th>\n",
       "      <td>NaN</td>\n",
       "      <td>NaN</td>\n",
       "      <td>8000</td>\n",
       "      <td>8000</td>\n",
       "      <td>8000.0</td>\n",
       "      <td>36 months</td>\n",
       "      <td>15.05</td>\n",
       "      <td>277.52</td>\n",
       "      <td>C</td>\n",
       "      <td>C4</td>\n",
       "      <td>...</td>\n",
       "      <td>NaN</td>\n",
       "      <td>NaN</td>\n",
       "      <td>Cash</td>\n",
       "      <td>N</td>\n",
       "      <td>NaN</td>\n",
       "      <td>NaN</td>\n",
       "      <td>NaN</td>\n",
       "      <td>NaN</td>\n",
       "      <td>NaN</td>\n",
       "      <td>NaN</td>\n",
       "    </tr>\n",
       "    <tr>\n",
       "      <th>2</th>\n",
       "      <td>NaN</td>\n",
       "      <td>NaN</td>\n",
       "      <td>2400</td>\n",
       "      <td>2400</td>\n",
       "      <td>2400.0</td>\n",
       "      <td>36 months</td>\n",
       "      <td>12.69</td>\n",
       "      <td>80.51</td>\n",
       "      <td>C</td>\n",
       "      <td>C2</td>\n",
       "      <td>...</td>\n",
       "      <td>NaN</td>\n",
       "      <td>NaN</td>\n",
       "      <td>Cash</td>\n",
       "      <td>N</td>\n",
       "      <td>NaN</td>\n",
       "      <td>NaN</td>\n",
       "      <td>NaN</td>\n",
       "      <td>NaN</td>\n",
       "      <td>NaN</td>\n",
       "      <td>NaN</td>\n",
       "    </tr>\n",
       "    <tr>\n",
       "      <th>3</th>\n",
       "      <td>NaN</td>\n",
       "      <td>NaN</td>\n",
       "      <td>28000</td>\n",
       "      <td>28000</td>\n",
       "      <td>28000.0</td>\n",
       "      <td>60 months</td>\n",
       "      <td>13.99</td>\n",
       "      <td>651.37</td>\n",
       "      <td>C</td>\n",
       "      <td>C3</td>\n",
       "      <td>...</td>\n",
       "      <td>NaN</td>\n",
       "      <td>NaN</td>\n",
       "      <td>Cash</td>\n",
       "      <td>N</td>\n",
       "      <td>NaN</td>\n",
       "      <td>NaN</td>\n",
       "      <td>NaN</td>\n",
       "      <td>NaN</td>\n",
       "      <td>NaN</td>\n",
       "      <td>NaN</td>\n",
       "    </tr>\n",
       "    <tr>\n",
       "      <th>4</th>\n",
       "      <td>NaN</td>\n",
       "      <td>NaN</td>\n",
       "      <td>2000</td>\n",
       "      <td>2000</td>\n",
       "      <td>2000.0</td>\n",
       "      <td>36 months</td>\n",
       "      <td>14.99</td>\n",
       "      <td>69.33</td>\n",
       "      <td>C</td>\n",
       "      <td>C5</td>\n",
       "      <td>...</td>\n",
       "      <td>NaN</td>\n",
       "      <td>NaN</td>\n",
       "      <td>Cash</td>\n",
       "      <td>Y</td>\n",
       "      <td>Jul-2017</td>\n",
       "      <td>COMPLETE</td>\n",
       "      <td>Mar-2017</td>\n",
       "      <td>441.48</td>\n",
       "      <td>50.0</td>\n",
       "      <td>4.0</td>\n",
       "    </tr>\n",
       "  </tbody>\n",
       "</table>\n",
       "<p>5 rows × 145 columns</p>\n",
       "</div>"
      ],
      "text/plain": [
       "   id  member_id  loan_amnt  funded_amnt  funded_amnt_inv        term  \\\n",
       "0 NaN        NaN       3000         3000           2750.0   36 months   \n",
       "1 NaN        NaN       8000         8000           8000.0   36 months   \n",
       "2 NaN        NaN       2400         2400           2400.0   36 months   \n",
       "3 NaN        NaN      28000        28000          28000.0   60 months   \n",
       "4 NaN        NaN       2000         2000           2000.0   36 months   \n",
       "\n",
       "   int_rate  installment grade sub_grade  ... hardship_payoff_balance_amount  \\\n",
       "0      7.90        93.88     A        A4  ...                            NaN   \n",
       "1     15.05       277.52     C        C4  ...                            NaN   \n",
       "2     12.69        80.51     C        C2  ...                            NaN   \n",
       "3     13.99       651.37     C        C3  ...                            NaN   \n",
       "4     14.99        69.33     C        C5  ...                            NaN   \n",
       "\n",
       "  hardship_last_payment_amount disbursement_method  debt_settlement_flag  \\\n",
       "0                          NaN                Cash                     N   \n",
       "1                          NaN                Cash                     N   \n",
       "2                          NaN                Cash                     N   \n",
       "3                          NaN                Cash                     N   \n",
       "4                          NaN                Cash                     Y   \n",
       "\n",
       "  debt_settlement_flag_date settlement_status settlement_date  \\\n",
       "0                       NaN               NaN             NaN   \n",
       "1                       NaN               NaN             NaN   \n",
       "2                       NaN               NaN             NaN   \n",
       "3                       NaN               NaN             NaN   \n",
       "4                  Jul-2017          COMPLETE        Mar-2017   \n",
       "\n",
       "  settlement_amount  settlement_percentage settlement_term  \n",
       "0               NaN                    NaN             NaN  \n",
       "1               NaN                    NaN             NaN  \n",
       "2               NaN                    NaN             NaN  \n",
       "3               NaN                    NaN             NaN  \n",
       "4            441.48                   50.0             4.0  \n",
       "\n",
       "[5 rows x 145 columns]"
      ]
     },
     "execution_count": 4,
     "metadata": {},
     "output_type": "execute_result"
    }
   ],
   "source": [
    "# Check the first few rows of the data\n",
    "data.head(5)"
   ]
  },
  {
   "cell_type": "code",
   "execution_count": 5,
   "metadata": {},
   "outputs": [
    {
     "data": {
      "text/plain": [
       "loan_status\n",
       "Fully Paid                                             31267\n",
       "Current                                                27721\n",
       "Charged Off                                             7742\n",
       "Late (31-120 days)                                       637\n",
       "In Grace Period                                          266\n",
       "Late (16-30 days)                                        100\n",
       "Does not meet the credit policy. Status:Fully Paid        61\n",
       "Does not meet the credit policy. Status:Charged Off       23\n",
       "Default                                                    3\n",
       "Name: count, dtype: int64"
      ]
     },
     "execution_count": 5,
     "metadata": {},
     "output_type": "execute_result"
    }
   ],
   "source": [
    "# check loan status\n",
    "data['loan_status'].value_counts()"
   ]
  },
  {
   "cell_type": "code",
   "execution_count": 6,
   "metadata": {},
   "outputs": [],
   "source": [
    "# check missing percentage of the columns\n",
    "missing = data.isnull().mean()*100\n"
   ]
  },
  {
   "cell_type": "code",
   "execution_count": 7,
   "metadata": {},
   "outputs": [],
   "source": [
    "# drop columns with more than 10% of missing values\n",
    "data = data.loc[:, missing < 10]"
   ]
  },
  {
   "cell_type": "code",
   "execution_count": 8,
   "metadata": {},
   "outputs": [
    {
     "name": "stdout",
     "output_type": "stream",
     "text": [
      "<class 'pandas.core.frame.DataFrame'>\n",
      "RangeIndex: 67820 entries, 0 to 67819\n",
      "Data columns (total 86 columns):\n",
      " #   Column                      Non-Null Count  Dtype  \n",
      "---  ------                      --------------  -----  \n",
      " 0   loan_amnt                   67820 non-null  int64  \n",
      " 1   funded_amnt                 67820 non-null  int64  \n",
      " 2   funded_amnt_inv             67820 non-null  float64\n",
      " 3   term                        67820 non-null  object \n",
      " 4   int_rate                    67820 non-null  float64\n",
      " 5   installment                 67820 non-null  float64\n",
      " 6   grade                       67820 non-null  object \n",
      " 7   sub_grade                   67820 non-null  object \n",
      " 8   emp_title                   62905 non-null  object \n",
      " 9   emp_length                  63502 non-null  object \n",
      " 10  home_ownership              67820 non-null  object \n",
      " 11  annual_inc                  67820 non-null  float64\n",
      " 12  verification_status         67820 non-null  object \n",
      " 13  issue_d                     67820 non-null  object \n",
      " 14  loan_status                 67820 non-null  object \n",
      " 15  pymnt_plan                  67820 non-null  object \n",
      " 16  purpose                     67820 non-null  object \n",
      " 17  title                       67185 non-null  object \n",
      " 18  zip_code                    67820 non-null  object \n",
      " 19  addr_state                  67820 non-null  object \n",
      " 20  dti                         67764 non-null  float64\n",
      " 21  delinq_2yrs                 67818 non-null  float64\n",
      " 22  earliest_cr_line            67818 non-null  object \n",
      " 23  inq_last_6mths              67818 non-null  float64\n",
      " 24  open_acc                    67818 non-null  float64\n",
      " 25  pub_rec                     67818 non-null  float64\n",
      " 26  revol_bal                   67820 non-null  int64  \n",
      " 27  revol_util                  67769 non-null  float64\n",
      " 28  total_acc                   67818 non-null  float64\n",
      " 29  initial_list_status         67820 non-null  object \n",
      " 30  out_prncp                   67820 non-null  float64\n",
      " 31  out_prncp_inv               67820 non-null  float64\n",
      " 32  total_pymnt                 67820 non-null  float64\n",
      " 33  total_pymnt_inv             67820 non-null  float64\n",
      " 34  total_rec_prncp             67820 non-null  float64\n",
      " 35  total_rec_int               67820 non-null  float64\n",
      " 36  total_rec_late_fee          67820 non-null  float64\n",
      " 37  recoveries                  67820 non-null  float64\n",
      " 38  collection_recovery_fee     67820 non-null  float64\n",
      " 39  last_pymnt_d                67746 non-null  object \n",
      " 40  last_pymnt_amnt             67820 non-null  float64\n",
      " 41  last_credit_pull_d          67818 non-null  object \n",
      " 42  collections_12_mths_ex_med  67811 non-null  float64\n",
      " 43  policy_code                 67820 non-null  int64  \n",
      " 44  application_type            67820 non-null  object \n",
      " 45  acc_now_delinq              67818 non-null  float64\n",
      " 46  tot_coll_amt                65786 non-null  float64\n",
      " 47  tot_cur_bal                 65786 non-null  float64\n",
      " 48  total_rev_hi_lim            65786 non-null  float64\n",
      " 49  acc_open_past_24mths        66399 non-null  float64\n",
      " 50  avg_cur_bal                 65783 non-null  float64\n",
      " 51  bc_open_to_buy              65679 non-null  float64\n",
      " 52  bc_util                     65654 non-null  float64\n",
      " 53  chargeoff_within_12_mths    67811 non-null  float64\n",
      " 54  delinq_amnt                 67818 non-null  float64\n",
      " 55  mo_sin_old_il_acct          63767 non-null  float64\n",
      " 56  mo_sin_old_rev_tl_op        65786 non-null  float64\n",
      " 57  mo_sin_rcnt_rev_tl_op       65786 non-null  float64\n",
      " 58  mo_sin_rcnt_tl              65786 non-null  float64\n",
      " 59  mort_acc                    66399 non-null  float64\n",
      " 60  mths_since_recent_bc        65727 non-null  float64\n",
      " 61  num_accts_ever_120_pd       65786 non-null  float64\n",
      " 62  num_actv_bc_tl              65786 non-null  float64\n",
      " 63  num_actv_rev_tl             65786 non-null  float64\n",
      " 64  num_bc_sats                 66157 non-null  float64\n",
      " 65  num_bc_tl                   65786 non-null  float64\n",
      " 66  num_il_tl                   65786 non-null  float64\n",
      " 67  num_op_rev_tl               65786 non-null  float64\n",
      " 68  num_rev_accts               65786 non-null  float64\n",
      " 69  num_rev_tl_bal_gt_0         65786 non-null  float64\n",
      " 70  num_sats                    66157 non-null  float64\n",
      " 71  num_tl_120dpd_2m            63289 non-null  float64\n",
      " 72  num_tl_30dpd                65786 non-null  float64\n",
      " 73  num_tl_90g_dpd_24m          65786 non-null  float64\n",
      " 74  num_tl_op_past_12m          65786 non-null  float64\n",
      " 75  pct_tl_nvr_dlq              65778 non-null  float64\n",
      " 76  percent_bc_gt_75            65668 non-null  float64\n",
      " 77  pub_rec_bankruptcies        67778 non-null  float64\n",
      " 78  tax_liens                   67814 non-null  float64\n",
      " 79  tot_hi_cred_lim             65786 non-null  float64\n",
      " 80  total_bal_ex_mort           66399 non-null  float64\n",
      " 81  total_bc_limit              66399 non-null  float64\n",
      " 82  total_il_high_credit_limit  65786 non-null  float64\n",
      " 83  hardship_flag               67820 non-null  object \n",
      " 84  disbursement_method         67820 non-null  object \n",
      " 85  debt_settlement_flag        67820 non-null  object \n",
      "dtypes: float64(60), int64(4), object(22)\n",
      "memory usage: 44.5+ MB\n"
     ]
    }
   ],
   "source": [
    "data.info()"
   ]
  },
  {
   "cell_type": "markdown",
   "metadata": {},
   "source": [
    "# Clean continuos variables\n"
   ]
  },
  {
   "cell_type": "markdown",
   "metadata": {},
   "source": [
    "## Employment lenght"
   ]
  },
  {
   "cell_type": "markdown",
   "metadata": {},
   "source": []
  },
  {
   "cell_type": "code",
   "execution_count": 9,
   "metadata": {},
   "outputs": [
    {
     "data": {
      "text/plain": [
       "emp_length\n",
       "10+ years    22492\n",
       "2 years       6161\n",
       "< 1 year      5707\n",
       "3 years       5510\n",
       "1 year        4401\n",
       "5 years       4166\n",
       "4 years       4141\n",
       "6 years       3066\n",
       "7 years       2813\n",
       "8 years       2725\n",
       "9 years       2320\n",
       "Name: count, dtype: int64"
      ]
     },
     "execution_count": 9,
     "metadata": {},
     "output_type": "execute_result"
    }
   ],
   "source": [
    "# employment length options\n",
    "data['emp_length'].value_counts()"
   ]
  },
  {
   "cell_type": "code",
   "execution_count": 10,
   "metadata": {},
   "outputs": [],
   "source": [
    "# replace '< 1 year' with 0, '10+ years' with 10\n",
    "data['emp_length'] = data['emp_length'].replace({'< 1 year': '0', '10+ years': '10'})"
   ]
  },
  {
   "cell_type": "code",
   "execution_count": 11,
   "metadata": {},
   "outputs": [],
   "source": [
    "# substract 'years' from the column and then convert to numeric\n",
    "data['emp_length'] = data['emp_length'].str.extract('(\\d+)').astype(float)\n"
   ]
  },
  {
   "cell_type": "code",
   "execution_count": 12,
   "metadata": {},
   "outputs": [
    {
     "data": {
      "text/plain": [
       "emp_length\n",
       "10.0    22492\n",
       "2.0      6161\n",
       "0.0      5707\n",
       "3.0      5510\n",
       "1.0      4401\n",
       "5.0      4166\n",
       "4.0      4141\n",
       "6.0      3066\n",
       "7.0      2813\n",
       "8.0      2725\n",
       "9.0      2320\n",
       "Name: count, dtype: int64"
      ]
     },
     "execution_count": 12,
     "metadata": {},
     "output_type": "execute_result"
    }
   ],
   "source": [
    "#check\n",
    "data['emp_length'].value_counts()"
   ]
  },
  {
   "cell_type": "code",
   "execution_count": 13,
   "metadata": {},
   "outputs": [
    {
     "data": {
      "text/plain": [
       "count    63502.000000\n",
       "mean         5.926333\n",
       "std          3.719452\n",
       "min          0.000000\n",
       "25%          2.000000\n",
       "50%          6.000000\n",
       "75%         10.000000\n",
       "max         10.000000\n",
       "Name: emp_length, dtype: float64"
      ]
     },
     "execution_count": 13,
     "metadata": {},
     "output_type": "execute_result"
    }
   ],
   "source": [
    "#describe the length of employment\n",
    "data['emp_length'].describe()"
   ]
  },
  {
   "cell_type": "markdown",
   "metadata": {},
   "source": [
    "## Term\n",
    "\n"
   ]
  },
  {
   "cell_type": "code",
   "execution_count": 14,
   "metadata": {},
   "outputs": [
    {
     "data": {
      "text/plain": [
       "term\n",
       " 36 months    48355\n",
       " 60 months    19465\n",
       "Name: count, dtype: int64"
      ]
     },
     "execution_count": 14,
     "metadata": {},
     "output_type": "execute_result"
    }
   ],
   "source": [
    "\n",
    "data['term'].value_counts()"
   ]
  },
  {
   "cell_type": "code",
   "execution_count": 15,
   "metadata": {},
   "outputs": [],
   "source": [
    "# substrac the 'months' from the column and then convert to numeric\n",
    "data['term_int'] = data['term'].str.replace(' months', '').astype(int)"
   ]
  },
  {
   "cell_type": "markdown",
   "metadata": {},
   "source": [
    "## Crime line"
   ]
  },
  {
   "cell_type": "code",
   "execution_count": 16,
   "metadata": {},
   "outputs": [],
   "source": [
    "# change to date 'earliest_cr_line' to datetime\n",
    "data['earliest_cr_line'] = pd.to_datetime(data['earliest_cr_line'], format='%b-%Y')"
   ]
  },
  {
   "cell_type": "code",
   "execution_count": 17,
   "metadata": {},
   "outputs": [
    {
     "data": {
      "text/plain": [
       "0   1997-10-01\n",
       "1   2004-11-01\n",
       "2   2009-07-01\n",
       "3   2007-01-01\n",
       "4   1990-07-01\n",
       "Name: earliest_cr_line, dtype: datetime64[ns]"
      ]
     },
     "execution_count": 17,
     "metadata": {},
     "output_type": "execute_result"
    }
   ],
   "source": [
    "data['earliest_cr_line'].head()"
   ]
  },
  {
   "cell_type": "code",
   "execution_count": 18,
   "metadata": {},
   "outputs": [
    {
     "data": {
      "text/plain": [
       "48324   2015-10-01\n",
       "54649   2015-10-01\n",
       "6105    2015-10-01\n",
       "35470   2015-10-01\n",
       "16631   2015-09-01\n",
       "           ...    \n",
       "60702   1954-01-01\n",
       "15753   1953-01-01\n",
       "33937   1951-01-01\n",
       "57263          NaT\n",
       "64902          NaT\n",
       "Name: earliest_cr_line, Length: 67820, dtype: datetime64[ns]"
      ]
     },
     "execution_count": 18,
     "metadata": {},
     "output_type": "execute_result"
    }
   ],
   "source": [
    "# order descendent by 'earliest_cr_line'\n",
    "data['earliest_cr_line'].sort_values(ascending = False)"
   ]
  },
  {
   "cell_type": "code",
   "execution_count": 19,
   "metadata": {},
   "outputs": [],
   "source": [
    "# delete null values\n",
    "data = data.dropna(subset=['earliest_cr_line'])"
   ]
  },
  {
   "cell_type": "code",
   "execution_count": 20,
   "metadata": {},
   "outputs": [],
   "source": [
    "# create a variable of the difference of months since the max date of 'earlist_cr_line' and the 'earliest_cr_line'\n",
    "data['months_since_earliest_cr_line'] = (data['earliest_cr_line'].max() - data['earliest_cr_line'])/np.timedelta64(30, 'D')\n",
    "\n"
   ]
  },
  {
   "cell_type": "code",
   "execution_count": null,
   "metadata": {},
   "outputs": [],
   "source": []
  },
  {
   "cell_type": "markdown",
   "metadata": {},
   "source": [
    "# Cleaning categorical variables\n",
    "List of variables: \n",
    "- grade\n",
    "- sub_grade\n",
    "- home_ownership\n",
    "- verification_status\n",
    "- loan_status\n",
    "- purpose\n",
    "- addr_state\n",
    "- initial_list_status"
   ]
  },
  {
   "cell_type": "markdown",
   "metadata": {},
   "source": [
    "## Grade"
   ]
  },
  {
   "cell_type": "code",
   "execution_count": 21,
   "metadata": {},
   "outputs": [
    {
     "data": {
      "text/plain": [
       "grade\n",
       "B    19967\n",
       "C    19399\n",
       "A    13139\n",
       "D     9608\n",
       "E     4080\n",
       "F     1244\n",
       "G      381\n",
       "Name: count, dtype: int64"
      ]
     },
     "execution_count": 21,
     "metadata": {},
     "output_type": "execute_result"
    }
   ],
   "source": [
    "# check grade\n",
    "data['grade'].value_counts()"
   ]
  },
  {
   "cell_type": "code",
   "execution_count": 22,
   "metadata": {},
   "outputs": [],
   "source": [
    "# generate dummies and then concatenate to the data and drop the the new first column\n",
    "def generate_dummies(data, column):\n",
    "    dummies = pd.get_dummies(data[column], prefix=column, prefix_sep=':', drop_first=True)\n",
    "    df = pd.concat([data, dummies], axis=1)\n",
    "    return df\n"
   ]
  },
  {
   "cell_type": "code",
   "execution_count": 23,
   "metadata": {},
   "outputs": [],
   "source": [
    "#create df with dummies and without the original column\n",
    "list_categ_vars = ['grade', 'sub_grade', 'home_ownership', 'verification_status', 'purpose', 'addr_state', 'initial_list_status']\n",
    "df = data.copy()\n",
    "for var in list_categ_vars:\n",
    "    df = generate_dummies(df, var)"
   ]
  },
  {
   "cell_type": "markdown",
   "metadata": {},
   "source": [
    "# Cleaning missing values"
   ]
  },
  {
   "cell_type": "code",
   "execution_count": 24,
   "metadata": {},
   "outputs": [],
   "source": [
    "# check the percentage of missing values by column\n",
    "missing = df.isnull().mean()*100\n",
    "df = df.loc[:, missing < 10]"
   ]
  },
  {
   "cell_type": "code",
   "execution_count": 25,
   "metadata": {},
   "outputs": [
    {
     "name": "stdout",
     "output_type": "stream",
     "text": [
      "<class 'pandas.core.frame.DataFrame'>\n",
      "Index: 67818 entries, 0 to 67819\n",
      "Columns: 198 entries, loan_amnt to initial_list_status:w\n",
      "dtypes: bool(110), datetime64[ns](1), float64(62), int32(1), int64(4), object(20)\n",
      "memory usage: 52.9+ MB\n"
     ]
    }
   ],
   "source": [
    "df.info()"
   ]
  },
  {
   "cell_type": "code",
   "execution_count": 26,
   "metadata": {},
   "outputs": [
    {
     "name": "stdout",
     "output_type": "stream",
     "text": [
      "Number of rows with missing values: 11939\n"
     ]
    }
   ],
   "source": [
    "# Count the number of rows with missing values\n",
    "num_rows_with_nan = df.isnull().sum(axis=1).to_numpy().nonzero()[0].size\n",
    "print(f\"Number of rows with missing values: {num_rows_with_nan}\")\n"
   ]
  },
  {
   "cell_type": "markdown",
   "metadata": {},
   "source": [
    "## Columns of interest \n",
    "* annual_inc,\n",
    "* delinq_2yrs,\n",
    "* inq_last_6mths,\n",
    "* open_acc,\n",
    "* pub_rec,\n",
    "* total_acc,\n",
    "* acc_now_delinq,\n",
    "* total_rev_hi_lim,\n",
    "* emp_length_int,\n",
    "* mths_since_earliest_cr_line"
   ]
  },
  {
   "cell_type": "code",
   "execution_count": 27,
   "metadata": {},
   "outputs": [
    {
     "data": {
      "text/plain": [
       "acc_now_delinq    float64\n",
       "total_acc         float64\n",
       "pub_rec           float64\n",
       "open_acc          float64\n",
       "inq_last_6mths    float64\n",
       "delinq_2yrs       float64\n",
       "emp_length        float64\n",
       "dtype: object"
      ]
     },
     "execution_count": 27,
     "metadata": {},
     "output_type": "execute_result"
    }
   ],
   "source": [
    "# check the type of the columns of interest\n",
    "df[['acc_now_delinq','total_acc','pub_rec','open_acc','inq_last_6mths','delinq_2yrs','emp_length']].dtypes"
   ]
  },
  {
   "cell_type": "code",
   "execution_count": 28,
   "metadata": {},
   "outputs": [],
   "source": [
    "#select the columns of interest then replace null values with the mean of each column\n",
    "columns = ['acc_now_delinq','total_acc','pub_rec','open_acc','inq_last_6mths','delinq_2yrs','emp_length']\n",
    "for col in columns:\n",
    "    df[col].fillna(df[col].mean(), inplace=True)"
   ]
  },
  {
   "cell_type": "code",
   "execution_count": 29,
   "metadata": {},
   "outputs": [
    {
     "name": "stdout",
     "output_type": "stream",
     "text": [
      "Number of rows with missing values: 0\n"
     ]
    }
   ],
   "source": [
    "num_rows_with_nan = df[columns].isnull().sum(axis=1).to_numpy().nonzero()[0].size\n",
    "print(f\"Number of rows with missing values: {num_rows_with_nan}\")"
   ]
  },
  {
   "cell_type": "code",
   "execution_count": 30,
   "metadata": {},
   "outputs": [
    {
     "data": {
      "text/plain": [
       "0        0\n",
       "1        0\n",
       "2        0\n",
       "3        0\n",
       "4        0\n",
       "        ..\n",
       "67815    0\n",
       "67816    0\n",
       "67817    0\n",
       "67818    0\n",
       "67819    0\n",
       "Length: 67818, dtype: int64"
      ]
     },
     "execution_count": 30,
     "metadata": {},
     "output_type": "execute_result"
    }
   ],
   "source": [
    "df[columns].isnull().sum(axis=1)"
   ]
  },
  {
   "cell_type": "code",
   "execution_count": 31,
   "metadata": {},
   "outputs": [],
   "source": [
    "#select the columns which names start with the items of list_categ_vars, then append num_vars and loan_status, and create loan_df\n",
    "list_categ_vars = ['grade', 'sub_grade', 'home_ownership', 'verification_status', 'purpose', 'addr_state', 'initial_list_status']\n",
    "list_dummy_vars = [col for col in df.columns if col.startswith(tuple(list_categ_vars))]\n",
    "list_num_vars = ['acc_now_delinq','total_acc','pub_rec','open_acc','inq_last_6mths','delinq_2yrs','emp_length']\n",
    "vars_select = list_dummy_vars + list_num_vars + list_categ_vars + ['loan_status']\n",
    "loan_df = df[vars_select]"
   ]
  },
  {
   "cell_type": "code",
   "execution_count": 32,
   "metadata": {},
   "outputs": [],
   "source": [
    "loan_df.to_csv('data/loan_status_clean_df.csv', index=False)"
   ]
  },
  {
   "cell_type": "code",
   "execution_count": null,
   "metadata": {},
   "outputs": [],
   "source": []
  }
 ],
 "metadata": {
  "kernelspec": {
   "display_name": "edu",
   "language": "python",
   "name": "python3"
  },
  "language_info": {
   "codemirror_mode": {
    "name": "ipython",
    "version": 3
   },
   "file_extension": ".py",
   "mimetype": "text/x-python",
   "name": "python",
   "nbconvert_exporter": "python",
   "pygments_lexer": "ipython3",
   "version": "3.11.7"
  }
 },
 "nbformat": 4,
 "nbformat_minor": 2
}
